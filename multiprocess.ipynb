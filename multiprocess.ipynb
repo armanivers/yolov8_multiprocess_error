{
 "cells": [
  {
   "cell_type": "code",
   "execution_count": 1,
   "id": "b64dc904-0f62-44e2-a664-ddfbdc26d44e",
   "metadata": {
    "execution": {
     "iopub.execute_input": "2025-01-23T00:50:51.938858Z",
     "iopub.status.busy": "2025-01-23T00:50:51.938616Z",
     "iopub.status.idle": "2025-01-23T00:50:51.985903Z",
     "shell.execute_reply": "2025-01-23T00:50:51.984995Z",
     "shell.execute_reply.started": "2025-01-23T00:50:51.938833Z"
    }
   },
   "outputs": [
    {
     "name": "stdout",
     "output_type": "stream",
     "text": [
      "/home/arman.iliev001/yolov8_error\n",
      "Data folder structure '/home/arman.iliev001/yolov8_error' already exists.\n"
     ]
    }
   ],
   "source": [
    "import os\n",
    "\n",
    "ROOT_DIR = os.getcwd()\n",
    "\n",
    "print(ROOT_DIR)\n",
    "\n",
    "DATA_DIR = os.path.join(ROOT_DIR,'data')\n",
    "TRAINING_DIR = os.path.join(ROOT_DIR,'training')\n",
    "\n",
    "force_create = False\n",
    "\n",
    "# crete dir structure if it doesnt exist\n",
    "if force_create or not os.path.exists(ROOT_DIR):\n",
    "\n",
    "    os.makedirs(ROOT_DIR)\n",
    "    os.makedirs(DATA_DIR)\n",
    "    os.makedirs(TRAINING_DIR)\n",
    "\n",
    "    print(f\"Data folder structure '{ROOT_DIR}' created successfully.\")\n",
    "else:\n",
    "    print(f\"Data folder structure '{ROOT_DIR}' already exists.\")\n",
    "\n",
    "def delete_and_recreate_folder(folder_path, delete=False):\n",
    "    if delete:\n",
    "        # Check if the folder exists\n",
    "        if os.path.exists(folder_path):\n",
    "            try:\n",
    "                # Delete the folder and its contents\n",
    "                shutil.rmtree(folder_path)\n",
    "                print(f\"Folder {folder_path} and its contents were deleted.\")\n",
    "            except Exception as e:\n",
    "                print(f\"Failed to delete {folder_path}. Reason: {e}\")\n",
    "                return\n",
    "        else:\n",
    "            print(f\"Folder {folder_path} does not exist.\")\n",
    "        \n",
    "        try:\n",
    "            os.makedirs(folder_path)\n",
    "            print(f\"Folder {folder_path} was recreated successfully.\")\n",
    "        except Exception as e:\n",
    "            print(f\"Failed to create folder {folder_path}. Reason: {e}\")\n",
    "    else:\n",
    "        print(f\"Deletion skipped. Folder {folder_path} was not modified.\")\n",
    "import yaml\n",
    "\n",
    "def init_yaml(kfold_number=1):\n",
    "        \n",
    "    data = {\n",
    "        'path': f'{DATA_DIR}/{kfold_number}',\n",
    "        'train': 'train/images',\n",
    "        'val': 'val/images',\n",
    "    \n",
    "        'names': {\n",
    "            0: 'wound'\n",
    "        }\n",
    "    }\n",
    "\n",
    "    with open(os.path.join(ROOT_DIR, \"config.yaml\"), \"w\") as f:\n",
    "        yaml.dump(data, f, default_flow_style=False)"
   ]
  },
  {
   "cell_type": "code",
   "execution_count": 2,
   "id": "69aa1b99-0442-47e1-a144-502f6a8fe6a5",
   "metadata": {
    "execution": {
     "iopub.execute_input": "2025-01-23T00:50:51.987130Z",
     "iopub.status.busy": "2025-01-23T00:50:51.986869Z",
     "iopub.status.idle": "2025-01-23T00:50:54.686363Z",
     "shell.execute_reply": "2025-01-23T00:50:54.685317Z",
     "shell.execute_reply.started": "2025-01-23T00:50:51.987106Z"
    }
   },
   "outputs": [],
   "source": [
    "import torch.multiprocessing as mp\n",
    "from multiprocessing import Queue\n",
    "\n",
    "def train_model_function(i, result_queue):\n",
    "    model = YOLO('yolov8x-seg.pt')\n",
    "    results_training = model.train(data=os.path.join(ROOT_DIR, \"config.yaml\"), project=TRAINING_DIR, name=\"train_test_\" + str(i),\n",
    "                                   epochs=1, imgsz=512, batch=16, deterministic=True, plots=True, seed=1401,\n",
    "                                   close_mosaic=0, augment=False, hsv_h=0, hsv_s=0, hsv_v=0, degrees=0, translate=0, scale=0, \n",
    "                                   shear=0.0, perspective=0, flipud=0, fliplr=0, bgr=0, mosaic=0, mixup=0, copy_paste=0, erasing=0,crop_fraction=0)\n",
    "    r = {\n",
    "        'train_map': results_training.seg.map,\n",
    "        'train_map50': results_training.seg.map50,\n",
    "        'train_map75': results_training.seg.map75,\n",
    "        'train_precision': float(results_training.seg.p[0]),\n",
    "        'train_recall': float(results_training.seg.r[0]),\n",
    "        'train_f1': float(results_training.seg.f1[0]),\n",
    "    }\n",
    "    result_queue.put((r))\n",
    "\n",
    "def start_training_in_process(i):\n",
    "    #mp.set_start_method(\"spawn\", force=True)  # Use 'spawn' for new processes\n",
    "    \n",
    "    result_queue = Queue()\n",
    "    train_process = mp.Process(\n",
    "        target=train_model_function,\n",
    "        args=(i, result_queue)\n",
    "    )\n",
    "    train_process.name = \"TrainingProcess\"\n",
    "    train_process.start()\n",
    "    train_process.join()\n",
    "\n",
    "    if not result_queue.empty():\n",
    "        r = result_queue.get()\n",
    "        return r\n",
    "    else:\n",
    "        print(\"No results returned from process\")\n",
    "        return None"
   ]
  },
  {
   "cell_type": "code",
   "execution_count": 3,
   "id": "316e909b-6dac-4e23-a4e3-d1e08496539b",
   "metadata": {
    "execution": {
     "iopub.execute_input": "2025-01-23T00:50:54.688355Z",
     "iopub.status.busy": "2025-01-23T00:50:54.687890Z",
     "iopub.status.idle": "2025-01-23T00:50:56.398837Z",
     "shell.execute_reply": "2025-01-23T00:50:56.397975Z",
     "shell.execute_reply.started": "2025-01-23T00:50:54.688331Z"
    }
   },
   "outputs": [
    {
     "name": "stdout",
     "output_type": "stream",
     "text": [
      "YOLO CLI not found. Ensure it is installed and available in your PATH.\n",
      "YOLO CLI not found. Ensure it is installed and available in your PATH.\n",
      "YOLO CLI not found. Ensure it is installed and available in your PATH.\n",
      "YOLO CLI not found. Ensure it is installed and available in your PATH.\n",
      "YOLO CLI not found. Ensure it is installed and available in your PATH.\n"
     ]
    }
   ],
   "source": [
    "from ultralytics import YOLO\n",
    "\n",
    "\n",
    "if __name__ == '__main__':\n",
    "\n",
    "   #loop through different kfolds of dataset\n",
    "    for i in range(1,6):\n",
    "        init_yaml(i)\n",
    "        start_training_in_process(i)"
   ]
  }
 ],
 "metadata": {
  "kernelspec": {
   "display_name": "Python 3 (ipykernel)",
   "language": "python",
   "name": "python3"
  },
  "language_info": {
   "codemirror_mode": {
    "name": "ipython",
    "version": 3
   },
   "file_extension": ".py",
   "mimetype": "text/x-python",
   "name": "python",
   "nbconvert_exporter": "python",
   "pygments_lexer": "ipython3",
   "version": "3.11.8"
  }
 },
 "nbformat": 4,
 "nbformat_minor": 5
}
